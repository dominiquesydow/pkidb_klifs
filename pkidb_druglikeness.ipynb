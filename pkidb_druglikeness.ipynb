{
 "cells": [
  {
   "cell_type": "markdown",
   "metadata": {},
   "source": [
    "# Drug-likeness of PKIDB ligands"
   ]
  },
  {
   "cell_type": "code",
   "execution_count": null,
   "metadata": {},
   "outputs": [],
   "source": [
    "import pandas as pd\n",
    "from rdkit.Chem import Descriptors, Lipinski"
   ]
  },
  {
   "cell_type": "markdown",
   "metadata": {},
   "source": [
    "## Get PKIDB ligands"
   ]
  },
  {
   "cell_type": "code",
   "execution_count": null,
   "metadata": {},
   "outputs": [],
   "source": [
    "url = 'https://raw.githubusercontent.com/dominiquesydow/pkidb_klifs/master/results/pkidb_20200218.csv'\n",
    "pkidb_ligands = pd.read_csv(url, index_col=0)"
   ]
  },
  {
   "cell_type": "code",
   "execution_count": null,
   "metadata": {},
   "outputs": [],
   "source": [
    "def is_drug_like(mol):\n",
    "    \"\"\"\n",
    "    Get drug-likeness criteria for molecule. (Takes about 1s for 2000 mols.)\n",
    "    \"\"\"\n",
    "\n",
    "    mol_wt = 1 if Descriptors.ExactMolWt(mol) <= 500 else 0\n",
    "    logp = 1 if Descriptors.MolLogP(mol) <= 5 else 0\n",
    "    hbd = 1 if Lipinski.NumHDonors(mol) <= 5 else 0\n",
    "    hba = 1 if Lipinski.NumHAcceptors(mol) <= 10 else 0\n",
    "    lipinski = 1 if mol_wt + logp + hbd + hba >= 3 else 0\n",
    "\n",
    "    return lipinski, mol_wt, logp, hbd, hba"
   ]
  }
 ],
 "metadata": {
  "kernelspec": {
   "display_name": "teachopencadd",
   "language": "python",
   "name": "teachopencadd"
  },
  "language_info": {
   "codemirror_mode": {
    "name": "ipython",
    "version": 3
   },
   "file_extension": ".py",
   "mimetype": "text/x-python",
   "name": "python",
   "nbconvert_exporter": "python",
   "pygments_lexer": "ipython3",
   "version": "3.6.7"
  }
 },
 "nbformat": 4,
 "nbformat_minor": 2
}
