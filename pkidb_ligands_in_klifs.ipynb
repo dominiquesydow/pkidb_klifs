{
 "cells": [
  {
   "cell_type": "markdown",
   "metadata": {},
   "source": [
    "# Approved and investigorial ligands (PKIDB) in KLIFS\n",
    "\n",
    "Get a list of PKI ligands in KLIFS.\n",
    "- Load all KLIFS ligands from KLIFS API\n",
    "- Load all PKIDB ligands from file\n",
    "- Merge KLIFS and PKIDB ligands on InChIKey"
   ]
  },
  {
   "cell_type": "code",
   "execution_count": 1,
   "metadata": {},
   "outputs": [
    {
     "name": "stderr",
     "output_type": "stream",
     "text": [
      "RDKit WARNING: [21:15:21] Enabling RDKit 2019.09.3 jupyter extensions\n"
     ]
    }
   ],
   "source": [
    "from datetime import datetime\n",
    "\n",
    "from bravado.client import SwaggerClient\n",
    "import pandas as pd\n",
    "from rdkit.Chem import PandasTools"
   ]
  },
  {
   "cell_type": "code",
   "execution_count": 2,
   "metadata": {},
   "outputs": [],
   "source": [
    "from pkidb_download import get_data_from_pkidb"
   ]
  },
  {
   "cell_type": "markdown",
   "metadata": {},
   "source": [
    "## Load KLIFS ligands"
   ]
  },
  {
   "cell_type": "code",
   "execution_count": 3,
   "metadata": {},
   "outputs": [],
   "source": [
    "KLIFS_API_DEFINITIONS = \"http://klifs.vu-compmedchem.nl/swagger/swagger.json\"\n",
    "KLIFS_CLIENT = SwaggerClient.from_url(KLIFS_API_DEFINITIONS, config={'validate_responses': False})"
   ]
  },
  {
   "cell_type": "code",
   "execution_count": 4,
   "metadata": {},
   "outputs": [],
   "source": [
    "def _all_ligands():\n",
    "    \n",
    "    ligands = KLIFS_CLIENT.Ligands.get_ligands_list().response().result\n",
    "    ligands_list = [[i.InChIKey, i.Name, i['PDB-code'], i.ligand_ID] for i in ligands]\n",
    "    ligands_df = pd.DataFrame(ligands_list, columns='InChIKey Name PDB-code ligand_ID'.split())\n",
    "    \n",
    "    return ligands_df"
   ]
  },
  {
   "cell_type": "code",
   "execution_count": 5,
   "metadata": {},
   "outputs": [
    {
     "name": "stdout",
     "output_type": "stream",
     "text": [
      "(3324, 4)\n"
     ]
    },
    {
     "data": {
      "text/html": [
       "<div>\n",
       "<style scoped>\n",
       "    .dataframe tbody tr th:only-of-type {\n",
       "        vertical-align: middle;\n",
       "    }\n",
       "\n",
       "    .dataframe tbody tr th {\n",
       "        vertical-align: top;\n",
       "    }\n",
       "\n",
       "    .dataframe thead th {\n",
       "        text-align: right;\n",
       "    }\n",
       "</style>\n",
       "<table border=\"1\" class=\"dataframe\">\n",
       "  <thead>\n",
       "    <tr style=\"text-align: right;\">\n",
       "      <th></th>\n",
       "      <th>InChIKey</th>\n",
       "      <th>Name</th>\n",
       "      <th>PDB-code</th>\n",
       "      <th>ligand_ID</th>\n",
       "    </tr>\n",
       "  </thead>\n",
       "  <tbody>\n",
       "    <tr>\n",
       "      <th>0</th>\n",
       "      <td>SAAYRHKJHDIDPH-UHFFFAOYSA-N</td>\n",
       "      <td>5-[(2-methyl-5-{[3-(trifluoromethyl)phenyl]car...</td>\n",
       "      <td>IHZ</td>\n",
       "      <td>1</td>\n",
       "    </tr>\n",
       "    <tr>\n",
       "      <th>1</th>\n",
       "      <td>CQZZZUNOWZUNNG-UHFFFAOYSA-N</td>\n",
       "      <td>3-{2-[5-(difluoromethyl)-2H-thieno[3,2-c]pyraz...</td>\n",
       "      <td>477</td>\n",
       "      <td>2</td>\n",
       "    </tr>\n",
       "    <tr>\n",
       "      <th>2</th>\n",
       "      <td>JSHRNKDQLCOTRI-HNNXBMFYSA-N</td>\n",
       "      <td>1-[(3S)-3-{[4-(morpholin-4-ylmethyl)-6-([1,3]t...</td>\n",
       "      <td>G6K</td>\n",
       "      <td>3</td>\n",
       "    </tr>\n",
       "  </tbody>\n",
       "</table>\n",
       "</div>"
      ],
      "text/plain": [
       "                      InChIKey  \\\n",
       "0  SAAYRHKJHDIDPH-UHFFFAOYSA-N   \n",
       "1  CQZZZUNOWZUNNG-UHFFFAOYSA-N   \n",
       "2  JSHRNKDQLCOTRI-HNNXBMFYSA-N   \n",
       "\n",
       "                                                Name PDB-code  ligand_ID  \n",
       "0  5-[(2-methyl-5-{[3-(trifluoromethyl)phenyl]car...      IHZ          1  \n",
       "1  3-{2-[5-(difluoromethyl)-2H-thieno[3,2-c]pyraz...      477          2  \n",
       "2  1-[(3S)-3-{[4-(morpholin-4-ylmethyl)-6-([1,3]t...      G6K          3  "
      ]
     },
     "execution_count": 5,
     "metadata": {},
     "output_type": "execute_result"
    }
   ],
   "source": [
    "klifs_ligands = _all_ligands()\n",
    "print(klifs_ligands.shape)\n",
    "klifs_ligands.head(3)"
   ]
  },
  {
   "cell_type": "markdown",
   "metadata": {},
   "source": [
    "## Add PDB IDs (deposited in KLIFS) to KLIFS ligands"
   ]
  },
  {
   "cell_type": "code",
   "execution_count": 6,
   "metadata": {},
   "outputs": [],
   "source": [
    "def _klifs_pdb_ids_per_ligand(ligand_id):\n",
    "    \"\"\"\n",
    "    Get all KLIFS pdb IDs for a ligand by its KLIFS ligand ID.\n",
    "    \"\"\"\n",
    "    \n",
    "    structures = KLIFS_CLIENT.Ligands.get_ligands_list_structures(ligand_ID=ligand_id).response().result\n",
    "    pdb_ids = [structure.pdb for structure in structures]\n",
    "    \n",
    "    return list(set(pdb_ids))"
   ]
  },
  {
   "cell_type": "code",
   "execution_count": 7,
   "metadata": {},
   "outputs": [],
   "source": [
    "def _add_klifs_pdb_ids(klifs_ligands):\n",
    "    \"\"\"\n",
    "    Add column for KLIFS PDB IDs which contain KLIFS ligands.\n",
    "    \"\"\"\n",
    "    \n",
    "    klifs_ligands['klifs_pdb_ids'] = klifs_ligands.ligand_ID.apply(lambda x: _klifs_pdb_ids_per_ligand([str(x)]))\n",
    "    \n",
    "    return klifs_ligands"
   ]
  },
  {
   "cell_type": "code",
   "execution_count": 8,
   "metadata": {},
   "outputs": [],
   "source": [
    "# This step takes a few minitues\n",
    "klifs_ligands = _add_klifs_pdb_ids(klifs_ligands)"
   ]
  },
  {
   "cell_type": "code",
   "execution_count": 9,
   "metadata": {},
   "outputs": [
    {
     "data": {
      "text/html": [
       "<div>\n",
       "<style scoped>\n",
       "    .dataframe tbody tr th:only-of-type {\n",
       "        vertical-align: middle;\n",
       "    }\n",
       "\n",
       "    .dataframe tbody tr th {\n",
       "        vertical-align: top;\n",
       "    }\n",
       "\n",
       "    .dataframe thead th {\n",
       "        text-align: right;\n",
       "    }\n",
       "</style>\n",
       "<table border=\"1\" class=\"dataframe\">\n",
       "  <thead>\n",
       "    <tr style=\"text-align: right;\">\n",
       "      <th></th>\n",
       "      <th>InChIKey</th>\n",
       "      <th>Name</th>\n",
       "      <th>PDB-code</th>\n",
       "      <th>ligand_ID</th>\n",
       "      <th>klifs_pdb_ids</th>\n",
       "    </tr>\n",
       "  </thead>\n",
       "  <tbody>\n",
       "    <tr>\n",
       "      <th>0</th>\n",
       "      <td>SAAYRHKJHDIDPH-UHFFFAOYSA-N</td>\n",
       "      <td>5-[(2-methyl-5-{[3-(trifluoromethyl)phenyl]car...</td>\n",
       "      <td>IHZ</td>\n",
       "      <td>1</td>\n",
       "      <td>[3dko]</td>\n",
       "    </tr>\n",
       "    <tr>\n",
       "      <th>1</th>\n",
       "      <td>CQZZZUNOWZUNNG-UHFFFAOYSA-N</td>\n",
       "      <td>3-{2-[5-(difluoromethyl)-2H-thieno[3,2-c]pyraz...</td>\n",
       "      <td>477</td>\n",
       "      <td>2</td>\n",
       "      <td>[3v8t, 3vf9]</td>\n",
       "    </tr>\n",
       "    <tr>\n",
       "      <th>2</th>\n",
       "      <td>JSHRNKDQLCOTRI-HNNXBMFYSA-N</td>\n",
       "      <td>1-[(3S)-3-{[4-(morpholin-4-ylmethyl)-6-([1,3]t...</td>\n",
       "      <td>G6K</td>\n",
       "      <td>3</td>\n",
       "      <td>[4kio]</td>\n",
       "    </tr>\n",
       "    <tr>\n",
       "      <th>3</th>\n",
       "      <td>LZANMDGKZJPQIB-HNNXBMFYSA-N</td>\n",
       "      <td>1-[(3S)-3-{[4-(morpholin-4-ylmethyl)-6-([1,3]t...</td>\n",
       "      <td>G5K</td>\n",
       "      <td>4</td>\n",
       "      <td>[4kio]</td>\n",
       "    </tr>\n",
       "    <tr>\n",
       "      <th>4</th>\n",
       "      <td>WINHZLLDWRZWRT-ATVHPVEESA-N</td>\n",
       "      <td>N-[2-(diethylamino)ethyl]-5-[(Z)-(5-fluoro-2-o...</td>\n",
       "      <td>B49</td>\n",
       "      <td>5</td>\n",
       "      <td>[3ti1, 3miy, 4qmz, 3g0e, 4ks8, 3g0f, 2y7j, 4ag...</td>\n",
       "    </tr>\n",
       "  </tbody>\n",
       "</table>\n",
       "</div>"
      ],
      "text/plain": [
       "                      InChIKey  \\\n",
       "0  SAAYRHKJHDIDPH-UHFFFAOYSA-N   \n",
       "1  CQZZZUNOWZUNNG-UHFFFAOYSA-N   \n",
       "2  JSHRNKDQLCOTRI-HNNXBMFYSA-N   \n",
       "3  LZANMDGKZJPQIB-HNNXBMFYSA-N   \n",
       "4  WINHZLLDWRZWRT-ATVHPVEESA-N   \n",
       "\n",
       "                                                Name PDB-code  ligand_ID  \\\n",
       "0  5-[(2-methyl-5-{[3-(trifluoromethyl)phenyl]car...      IHZ          1   \n",
       "1  3-{2-[5-(difluoromethyl)-2H-thieno[3,2-c]pyraz...      477          2   \n",
       "2  1-[(3S)-3-{[4-(morpholin-4-ylmethyl)-6-([1,3]t...      G6K          3   \n",
       "3  1-[(3S)-3-{[4-(morpholin-4-ylmethyl)-6-([1,3]t...      G5K          4   \n",
       "4  N-[2-(diethylamino)ethyl]-5-[(Z)-(5-fluoro-2-o...      B49          5   \n",
       "\n",
       "                                       klifs_pdb_ids  \n",
       "0                                             [3dko]  \n",
       "1                                       [3v8t, 3vf9]  \n",
       "2                                             [4kio]  \n",
       "3                                             [4kio]  \n",
       "4  [3ti1, 3miy, 4qmz, 3g0e, 4ks8, 3g0f, 2y7j, 4ag...  "
      ]
     },
     "execution_count": 9,
     "metadata": {},
     "output_type": "execute_result"
    }
   ],
   "source": [
    "klifs_ligands.head()"
   ]
  },
  {
   "cell_type": "markdown",
   "metadata": {},
   "source": [
    "## Load PKIDB ligands"
   ]
  },
  {
   "cell_type": "code",
   "execution_count": 10,
   "metadata": {},
   "outputs": [
    {
     "name": "stdout",
     "output_type": "stream",
     "text": [
      "(218, 25)\n"
     ]
    },
    {
     "data": {
      "text/html": [
       "<div>\n",
       "<style scoped>\n",
       "    .dataframe tbody tr th:only-of-type {\n",
       "        vertical-align: middle;\n",
       "    }\n",
       "\n",
       "    .dataframe tbody tr th {\n",
       "        vertical-align: top;\n",
       "    }\n",
       "\n",
       "    .dataframe thead th {\n",
       "        text-align: right;\n",
       "    }\n",
       "</style>\n",
       "<table border=\"1\" class=\"dataframe\">\n",
       "  <thead>\n",
       "    <tr style=\"text-align: right;\">\n",
       "      <th></th>\n",
       "      <th>INN_Name</th>\n",
       "      <th>BrandName</th>\n",
       "      <th>Phase</th>\n",
       "      <th>Applicants</th>\n",
       "      <th>LigID</th>\n",
       "      <th>pdbID</th>\n",
       "      <th>Type</th>\n",
       "      <th>RoF</th>\n",
       "      <th>MW</th>\n",
       "      <th>LogP</th>\n",
       "      <th>...</th>\n",
       "      <th>Targets</th>\n",
       "      <th>Kinase_families</th>\n",
       "      <th>First_Approval</th>\n",
       "      <th>SC_Patent</th>\n",
       "      <th>Chirality</th>\n",
       "      <th>Synonyms</th>\n",
       "      <th>FDA_approved</th>\n",
       "      <th>Melting_points_C</th>\n",
       "      <th>Canonical_Smiles</th>\n",
       "      <th>InChIKey</th>\n",
       "    </tr>\n",
       "  </thead>\n",
       "  <tbody>\n",
       "    <tr>\n",
       "      <th>0</th>\n",
       "      <td>Leniolisib</td>\n",
       "      <td>None</td>\n",
       "      <td>0.0</td>\n",
       "      <td>Novartis</td>\n",
       "      <td>9NQ</td>\n",
       "      <td>[5o83]</td>\n",
       "      <td>NaN</td>\n",
       "      <td>0</td>\n",
       "      <td>450.2</td>\n",
       "      <td>2.9</td>\n",
       "      <td>...</td>\n",
       "      <td>None</td>\n",
       "      <td>None</td>\n",
       "      <td>None</td>\n",
       "      <td>None</td>\n",
       "      <td>Single Stereoisomer</td>\n",
       "      <td>[CDZ173-NX, Leniolisib]</td>\n",
       "      <td>None</td>\n",
       "      <td>None</td>\n",
       "      <td>CCC(=O)N1CC[C@@H](C1)Nc2c3c(ncn2)CCN(C3)c4cc(c...</td>\n",
       "      <td>MWKYMZXCGYXLPL-ZDUSSCGKSA-N</td>\n",
       "    </tr>\n",
       "    <tr>\n",
       "      <th>1</th>\n",
       "      <td>Nemiralisib</td>\n",
       "      <td>None</td>\n",
       "      <td>0.0</td>\n",
       "      <td>GlaxosmithKline</td>\n",
       "      <td>VVX</td>\n",
       "      <td>[5ae8]</td>\n",
       "      <td>NaN</td>\n",
       "      <td>0</td>\n",
       "      <td>440.2</td>\n",
       "      <td>4.9</td>\n",
       "      <td>...</td>\n",
       "      <td>None</td>\n",
       "      <td>None</td>\n",
       "      <td>None</td>\n",
       "      <td>None</td>\n",
       "      <td>Single Stereoisomer</td>\n",
       "      <td>[GSK2269557A, GSK-2269557, Nemiralisib]</td>\n",
       "      <td>None</td>\n",
       "      <td>None</td>\n",
       "      <td>CC(C)N1CCN(CC1)Cc2cnc(o2)c3cc(cc4c3cn[nH]4)c5c...</td>\n",
       "      <td>MCIDWGZGWVSZMK-UHFFFAOYSA-N</td>\n",
       "    </tr>\n",
       "    <tr>\n",
       "      <th>2</th>\n",
       "      <td>Oclacitinib</td>\n",
       "      <td>None</td>\n",
       "      <td>0.0</td>\n",
       "      <td>Pfizer</td>\n",
       "      <td>None</td>\n",
       "      <td>None</td>\n",
       "      <td>NaN</td>\n",
       "      <td>0</td>\n",
       "      <td>337.2</td>\n",
       "      <td>1.5</td>\n",
       "      <td>...</td>\n",
       "      <td>[JAK1, JAK2, JAK3]</td>\n",
       "      <td>[Tyr]</td>\n",
       "      <td>None</td>\n",
       "      <td>None</td>\n",
       "      <td>Single Stereoisomer</td>\n",
       "      <td>[Oclacitinib, JAKI, PF-03394197]</td>\n",
       "      <td>None</td>\n",
       "      <td>None</td>\n",
       "      <td>CNS(=O)(=O)C[C@H]1CC[C@@H](CC1)N(c2ncnc3c2cc[n...</td>\n",
       "      <td>HJWLJNBZVZDLAQ-HAQNSBGRSA-N</td>\n",
       "    </tr>\n",
       "  </tbody>\n",
       "</table>\n",
       "<p>3 rows × 25 columns</p>\n",
       "</div>"
      ],
      "text/plain": [
       "      INN_Name BrandName  Phase       Applicants LigID   pdbID  Type  RoF  \\\n",
       "0   Leniolisib      None    0.0         Novartis   9NQ  [5o83]   NaN    0   \n",
       "1  Nemiralisib      None    0.0  GlaxosmithKline   VVX  [5ae8]   NaN    0   \n",
       "2  Oclacitinib      None    0.0           Pfizer  None    None   NaN    0   \n",
       "\n",
       "      MW  LogP  ...             Targets  Kinase_families  First_Approval  \\\n",
       "0  450.2   2.9  ...                None             None            None   \n",
       "1  440.2   4.9  ...                None             None            None   \n",
       "2  337.2   1.5  ...  [JAK1, JAK2, JAK3]            [Tyr]            None   \n",
       "\n",
       "   SC_Patent            Chirality                                 Synonyms  \\\n",
       "0       None  Single Stereoisomer                  [CDZ173-NX, Leniolisib]   \n",
       "1       None  Single Stereoisomer  [GSK2269557A, GSK-2269557, Nemiralisib]   \n",
       "2       None  Single Stereoisomer         [Oclacitinib, JAKI, PF-03394197]   \n",
       "\n",
       "  FDA_approved Melting_points_C  \\\n",
       "0         None             None   \n",
       "1         None             None   \n",
       "2         None             None   \n",
       "\n",
       "                                    Canonical_Smiles  \\\n",
       "0  CCC(=O)N1CC[C@@H](C1)Nc2c3c(ncn2)CCN(C3)c4cc(c...   \n",
       "1  CC(C)N1CCN(CC1)Cc2cnc(o2)c3cc(cc4c3cn[nH]4)c5c...   \n",
       "2  CNS(=O)(=O)C[C@H]1CC[C@@H](CC1)N(c2ncnc3c2cc[n...   \n",
       "\n",
       "                      InChIKey  \n",
       "0  MWKYMZXCGYXLPL-ZDUSSCGKSA-N  \n",
       "1  MCIDWGZGWVSZMK-UHFFFAOYSA-N  \n",
       "2  HJWLJNBZVZDLAQ-HAQNSBGRSA-N  \n",
       "\n",
       "[3 rows x 25 columns]"
      ]
     },
     "execution_count": 10,
     "metadata": {},
     "output_type": "execute_result"
    }
   ],
   "source": [
    "pkidb_ligands = get_data_from_pkidb()\n",
    "print(pkidb_ligands.shape)\n",
    "pkidb_ligands.head(3)"
   ]
  },
  {
   "cell_type": "markdown",
   "metadata": {},
   "source": [
    "## Check for PKIDB ligands in KLIFS"
   ]
  },
  {
   "cell_type": "code",
   "execution_count": 11,
   "metadata": {},
   "outputs": [],
   "source": [
    "def pkidb_ligands_in_klifs(klifs_ligands, pkidb_ligands):\n",
    "    \"\"\"\n",
    "    Get all KLIFS ligands that are in PKIDB.\n",
    "    \"\"\"\n",
    "    \n",
    "    klifs_pki = pd.concat(\n",
    "        [pkidb_ligands.set_index('InChIKey'), klifs_ligands.set_index('InChIKey')], \n",
    "        axis=1, \n",
    "        join='inner', \n",
    "        ignore_index=False, \n",
    "        keys=None,\n",
    "        levels=None, \n",
    "        names=None, \n",
    "        verify_integrity=False, \n",
    "        copy=True\n",
    "    )\n",
    "    \n",
    "    klifs_pki.reset_index(inplace=True)\n",
    "    \n",
    "    PandasTools.AddMoleculeColumnToFrame(klifs_pki, smilesCol='Canonical_Smiles')\n",
    "    \n",
    "    return klifs_pki"
   ]
  },
  {
   "cell_type": "code",
   "execution_count": 12,
   "metadata": {},
   "outputs": [
    {
     "name": "stdout",
     "output_type": "stream",
     "text": [
      "(99, 30)\n"
     ]
    },
    {
     "data": {
      "text/html": [
       "<div>\n",
       "<style scoped>\n",
       "    .dataframe tbody tr th:only-of-type {\n",
       "        vertical-align: middle;\n",
       "    }\n",
       "\n",
       "    .dataframe tbody tr th {\n",
       "        vertical-align: top;\n",
       "    }\n",
       "\n",
       "    .dataframe thead th {\n",
       "        text-align: right;\n",
       "    }\n",
       "</style>\n",
       "<table border=\"1\" class=\"dataframe\">\n",
       "  <thead>\n",
       "    <tr style=\"text-align: right;\">\n",
       "      <th></th>\n",
       "      <th>InChIKey</th>\n",
       "      <th>INN_Name</th>\n",
       "      <th>BrandName</th>\n",
       "      <th>Phase</th>\n",
       "      <th>Applicants</th>\n",
       "      <th>LigID</th>\n",
       "      <th>pdbID</th>\n",
       "      <th>Type</th>\n",
       "      <th>RoF</th>\n",
       "      <th>MW</th>\n",
       "      <th>...</th>\n",
       "      <th>Chirality</th>\n",
       "      <th>Synonyms</th>\n",
       "      <th>FDA_approved</th>\n",
       "      <th>Melting_points_C</th>\n",
       "      <th>Canonical_Smiles</th>\n",
       "      <th>Name</th>\n",
       "      <th>PDB-code</th>\n",
       "      <th>ligand_ID</th>\n",
       "      <th>klifs_pdb_ids</th>\n",
       "      <th>ROMol</th>\n",
       "    </tr>\n",
       "  </thead>\n",
       "  <tbody>\n",
       "    <tr>\n",
       "      <th>0</th>\n",
       "      <td>MWKYMZXCGYXLPL-ZDUSSCGKSA-N</td>\n",
       "      <td>Leniolisib</td>\n",
       "      <td>None</td>\n",
       "      <td>0.0</td>\n",
       "      <td>Novartis</td>\n",
       "      <td>9NQ</td>\n",
       "      <td>[5o83]</td>\n",
       "      <td>NaN</td>\n",
       "      <td>0</td>\n",
       "      <td>450.2</td>\n",
       "      <td>...</td>\n",
       "      <td>Single Stereoisomer</td>\n",
       "      <td>[CDZ173-NX, Leniolisib]</td>\n",
       "      <td>None</td>\n",
       "      <td>None</td>\n",
       "      <td>CCC(=O)N1CC[C@@H](C1)Nc2c3c(ncn2)CCN(C3)c4cc(c...</td>\n",
       "      <td>Leniolisib</td>\n",
       "      <td>9NQ</td>\n",
       "      <td>2890</td>\n",
       "      <td>[5o83]</td>\n",
       "      <td><img data-content=\"rdkit/molecule\" src=\"data:image/png;base64,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\" alt=\"Mol\"/></td>\n",
       "    </tr>\n",
       "    <tr>\n",
       "      <th>1</th>\n",
       "      <td>MCIDWGZGWVSZMK-UHFFFAOYSA-N</td>\n",
       "      <td>Nemiralisib</td>\n",
       "      <td>None</td>\n",
       "      <td>0.0</td>\n",
       "      <td>GlaxosmithKline</td>\n",
       "      <td>VVX</td>\n",
       "      <td>[5ae8]</td>\n",
       "      <td>NaN</td>\n",
       "      <td>0</td>\n",
       "      <td>440.2</td>\n",
       "      <td>...</td>\n",
       "      <td>Single Stereoisomer</td>\n",
       "      <td>[GSK2269557A, GSK-2269557, Nemiralisib]</td>\n",
       "      <td>None</td>\n",
       "      <td>None</td>\n",
       "      <td>CC(C)N1CCN(CC1)Cc2cnc(o2)c3cc(cc4c3cn[nH]4)c5c...</td>\n",
       "      <td>6-(1H-Indol-4-yl)-4-(5-{[4-(1-methylethyl)-1-p...</td>\n",
       "      <td>VVX</td>\n",
       "      <td>2646</td>\n",
       "      <td>[5ae8]</td>\n",
       "      <td><img data-content=\"rdkit/molecule\" src=\"data:image/png;base64,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\" alt=\"Mol\"/></td>\n",
       "    </tr>\n",
       "    <tr>\n",
       "      <th>2</th>\n",
       "      <td>RZUOCXOYPYGSKL-GOSISDBHSA-N</td>\n",
       "      <td>Ravoxertinib</td>\n",
       "      <td>None</td>\n",
       "      <td>1.0</td>\n",
       "      <td>Genentech</td>\n",
       "      <td>6QB</td>\n",
       "      <td>[5k4i, 5k4j, 6oph]</td>\n",
       "      <td>NaN</td>\n",
       "      <td>0</td>\n",
       "      <td>440.1</td>\n",
       "      <td>...</td>\n",
       "      <td>Single Stereoisomer</td>\n",
       "      <td>[Ravoxertinib, RG-7842, GDC-0994]</td>\n",
       "      <td>None</td>\n",
       "      <td>None</td>\n",
       "      <td>Cn1c(ccn1)Nc2nccc(n2)c3ccn(c(=O)c3)[C@H](CO)c4...</td>\n",
       "      <td>1-[(1~{S})-1-(4-chloranyl-3-fluoranyl-phenyl)-...</td>\n",
       "      <td>6QB</td>\n",
       "      <td>2137</td>\n",
       "      <td>[6oph, 5k4j, 5k4i]</td>\n",
       "      <td><img data-content=\"rdkit/molecule\" src=\"data:image/png;base64,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\" alt=\"Mol\"/></td>\n",
       "    </tr>\n",
       "  </tbody>\n",
       "</table>\n",
       "<p>3 rows × 30 columns</p>\n",
       "</div>"
      ],
      "text/plain": [
       "                      InChIKey      INN_Name BrandName  Phase  \\\n",
       "0  MWKYMZXCGYXLPL-ZDUSSCGKSA-N    Leniolisib      None    0.0   \n",
       "1  MCIDWGZGWVSZMK-UHFFFAOYSA-N   Nemiralisib      None    0.0   \n",
       "2  RZUOCXOYPYGSKL-GOSISDBHSA-N  Ravoxertinib      None    1.0   \n",
       "\n",
       "        Applicants LigID               pdbID  Type  RoF     MW  ...  \\\n",
       "0         Novartis   9NQ              [5o83]   NaN    0  450.2  ...   \n",
       "1  GlaxosmithKline   VVX              [5ae8]   NaN    0  440.2  ...   \n",
       "2        Genentech   6QB  [5k4i, 5k4j, 6oph]   NaN    0  440.1  ...   \n",
       "\n",
       "             Chirality                                 Synonyms  FDA_approved  \\\n",
       "0  Single Stereoisomer                  [CDZ173-NX, Leniolisib]          None   \n",
       "1  Single Stereoisomer  [GSK2269557A, GSK-2269557, Nemiralisib]          None   \n",
       "2  Single Stereoisomer        [Ravoxertinib, RG-7842, GDC-0994]          None   \n",
       "\n",
       "   Melting_points_C                                   Canonical_Smiles  \\\n",
       "0              None  CCC(=O)N1CC[C@@H](C1)Nc2c3c(ncn2)CCN(C3)c4cc(c...   \n",
       "1              None  CC(C)N1CCN(CC1)Cc2cnc(o2)c3cc(cc4c3cn[nH]4)c5c...   \n",
       "2              None  Cn1c(ccn1)Nc2nccc(n2)c3ccn(c(=O)c3)[C@H](CO)c4...   \n",
       "\n",
       "                                                Name PDB-code ligand_ID  \\\n",
       "0                                         Leniolisib      9NQ      2890   \n",
       "1  6-(1H-Indol-4-yl)-4-(5-{[4-(1-methylethyl)-1-p...      VVX      2646   \n",
       "2  1-[(1~{S})-1-(4-chloranyl-3-fluoranyl-phenyl)-...      6QB      2137   \n",
       "\n",
       "        klifs_pdb_ids                                              ROMol  \n",
       "0              [5o83]  <img data-content=\"rdkit/molecule\" src=\"data:i...  \n",
       "1              [5ae8]  <img data-content=\"rdkit/molecule\" src=\"data:i...  \n",
       "2  [6oph, 5k4j, 5k4i]  <img data-content=\"rdkit/molecule\" src=\"data:i...  \n",
       "\n",
       "[3 rows x 30 columns]"
      ]
     },
     "execution_count": 12,
     "metadata": {},
     "output_type": "execute_result"
    }
   ],
   "source": [
    "klifs_pki = pkidb_ligands_in_klifs(klifs_ligands, pkidb_ligands)\n",
    "print(klifs_pki.shape)\n",
    "klifs_pki.head(3)"
   ]
  },
  {
   "cell_type": "code",
   "execution_count": 13,
   "metadata": {},
   "outputs": [],
   "source": [
    "klifs_pki.to_csv(f'results/klifs_pki_{datetime.now().strftime(\"%Y%m%d\")}.csv', index_label=None)"
   ]
  },
  {
   "cell_type": "markdown",
   "metadata": {},
   "source": [
    "## Look into PKI in KLIFS (to be continued)"
   ]
  },
  {
   "cell_type": "code",
   "execution_count": 14,
   "metadata": {},
   "outputs": [
    {
     "data": {
      "text/plain": [
       "Phase\n",
       "0.0     2\n",
       "1.0     2\n",
       "2.0    32\n",
       "3.0    23\n",
       "4.0    40\n",
       "dtype: int64"
      ]
     },
     "execution_count": 14,
     "metadata": {},
     "output_type": "execute_result"
    }
   ],
   "source": [
    "klifs_pki.groupby('Phase').size()"
   ]
  }
 ],
 "metadata": {
  "kernelspec": {
   "display_name": "teachopencadd",
   "language": "python",
   "name": "teachopencadd"
  },
  "language_info": {
   "codemirror_mode": {
    "name": "ipython",
    "version": 3
   },
   "file_extension": ".py",
   "mimetype": "text/x-python",
   "name": "python",
   "nbconvert_exporter": "python",
   "pygments_lexer": "ipython3",
   "version": "3.6.7"
  }
 },
 "nbformat": 4,
 "nbformat_minor": 4
}
